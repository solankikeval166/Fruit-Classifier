{
 "cells": [
  {
   "cell_type": "code",
   "execution_count": 2,
   "metadata": {
    "_cell_guid": "b1076dfc-b9ad-4769-8c92-a6c4dae69d19",
    "_uuid": "8f2839f25d086af736a60e9eeb907d3b93b6e0e5",
    "execution": {
     "iopub.execute_input": "2023-09-17T20:46:11.526543Z",
     "iopub.status.busy": "2023-09-17T20:46:11.525976Z",
     "iopub.status.idle": "2023-09-17T20:46:19.661636Z",
     "shell.execute_reply": "2023-09-17T20:46:19.660230Z",
     "shell.execute_reply.started": "2023-09-17T20:46:11.526427Z"
    }
   },
   "outputs": [],
   "source": [
    "import numpy as np \n",
    "import pandas as pd \n",
    "import matplotlib.pyplot as plt\n",
    "import cv2\n",
    "import random\n",
    "import os\n",
    "\n",
    "from tensorflow import keras\n",
    "from tensorflow.keras.preprocessing.image import ImageDataGenerator\n",
    "from tensorflow.keras.applications.inception_v3 import InceptionV3\n",
    "from tensorflow.keras.layers import GlobalAveragePooling2D,GlobalMaxPooling2D\n",
    "from tensorflow.keras.models import Model,Sequential\n",
    "from tensorflow.keras.optimizers import Adam\n",
    "from sklearn.metrics import confusion_matrix,classification_report"
   ]
  },
  {
   "cell_type": "markdown",
   "metadata": {},
   "source": [
    "## Augment the Data using ImageDataGenerator"
   ]
  },
  {
   "cell_type": "code",
   "execution_count": 16,
   "metadata": {
    "execution": {
     "iopub.execute_input": "2023-09-17T20:46:23.676072Z",
     "iopub.status.busy": "2023-09-17T20:46:23.674990Z",
     "iopub.status.idle": "2023-09-17T20:46:23.686561Z",
     "shell.execute_reply": "2023-09-17T20:46:23.683366Z",
     "shell.execute_reply.started": "2023-09-17T20:46:23.676030Z"
    }
   },
   "outputs": [],
   "source": [
    "train_datagen = ImageDataGenerator( \n",
    "  rotation_range=20,\n",
    "  width_shift_range=0.1,\n",
    "  height_shift_range=0.1,\n",
    "  shear_range=0.1,\n",
    "  zoom_range=0.1,\n",
    "  horizontal_flip=True,\n",
    "  vertical_flip=True,\n",
    "  rescale=1./255,  \n",
    "  validation_split=0.2,                   \n",
    "#   preprocessing_function=keras.applications.vgg16.preprocess_input\n",
    "  )\n",
    "\n",
    "test_datagen= ImageDataGenerator(\n",
    "  rescale=1./255)"
   ]
  },
  {
   "cell_type": "markdown",
   "metadata": {},
   "source": [
    "## Load Dataset"
   ]
  },
  {
   "cell_type": "code",
   "execution_count": 17,
   "metadata": {
    "execution": {
     "iopub.execute_input": "2023-09-17T20:46:59.716770Z",
     "iopub.status.busy": "2023-09-17T20:46:59.716321Z",
     "iopub.status.idle": "2023-09-17T20:47:03.261601Z",
     "shell.execute_reply": "2023-09-17T20:47:03.260038Z",
     "shell.execute_reply.started": "2023-09-17T20:46:59.716735Z"
    }
   },
   "outputs": [
    {
     "name": "stdout",
     "output_type": "stream",
     "text": [
      "Found 896 images belonging to 6 classes.\n",
      "Found 222 images belonging to 6 classes.\n",
      "Found 88 images belonging to 6 classes.\n"
     ]
    }
   ],
   "source": [
    "#train and test dataset paths\n",
    "train_path='dataset/train'  \n",
    "test_path='dataset/test'\n",
    "\n",
    "# load and iterate training dataset\n",
    "train_generator = train_datagen.flow_from_directory(train_path, \n",
    "                                       target_size=[224,224],\n",
    "                                       color_mode='rgb', \n",
    "                                       class_mode=\"categorical\", \n",
    "                                       batch_size = 32, \n",
    "                                       shuffle=True,\n",
    "                                       subset='training') \n",
    "\n",
    "\n",
    "validation_generator = train_datagen.flow_from_directory(train_path, \n",
    "                                       target_size=[224,224],\n",
    "                                       color_mode='rgb', \n",
    "                                       class_mode=\"categorical\",\n",
    "                                       batch_size = 32,\n",
    "                                       shuffle=True,\n",
    "                                       subset='validation') \n",
    "\n",
    "# load and iterate testing dataset \n",
    "test_generator = test_datagen.flow_from_directory(test_path, \n",
    "                                      target_size=[224,224],                                    \n",
    "                                      color_mode='rgb', \n",
    "                                      class_mode=\"categorical\",\n",
    "                                      batch_size = 32) "
   ]
  },
  {
   "cell_type": "code",
   "execution_count": 4,
   "metadata": {
    "execution": {
     "iopub.execute_input": "2023-09-17T20:47:06.844197Z",
     "iopub.status.busy": "2023-09-17T20:47:06.843726Z",
     "iopub.status.idle": "2023-09-17T20:47:06.855683Z",
     "shell.execute_reply": "2023-09-17T20:47:06.854417Z",
     "shell.execute_reply.started": "2023-09-17T20:47:06.844160Z"
    }
   },
   "outputs": [
    {
     "data": {
      "text/plain": [
       "{'freshapples': 0,\n",
       " 'freshbanana': 1,\n",
       " 'freshoranges': 2,\n",
       " 'rottenapples': 3,\n",
       " 'rottenbanana': 4,\n",
       " 'rottenoranges': 5}"
      ]
     },
     "execution_count": 4,
     "metadata": {},
     "output_type": "execute_result"
    }
   ],
   "source": [
    "train_generator.class_indices"
   ]
  },
  {
   "cell_type": "code",
   "execution_count": 5,
   "metadata": {
    "execution": {
     "iopub.execute_input": "2023-09-17T20:47:09.702135Z",
     "iopub.status.busy": "2023-09-17T20:47:09.701619Z",
     "iopub.status.idle": "2023-09-17T20:47:09.711353Z",
     "shell.execute_reply": "2023-09-17T20:47:09.709914Z",
     "shell.execute_reply.started": "2023-09-17T20:47:09.702095Z"
    }
   },
   "outputs": [
    {
     "data": {
      "text/plain": [
       "{'freshapples': 0,\n",
       " 'freshbanana': 1,\n",
       " 'freshoranges': 2,\n",
       " 'rottenapples': 3,\n",
       " 'rottenbanana': 4,\n",
       " 'rottenoranges': 5}"
      ]
     },
     "execution_count": 5,
     "metadata": {},
     "output_type": "execute_result"
    }
   ],
   "source": [
    "validation_generator.class_indices"
   ]
  },
  {
   "cell_type": "code",
   "execution_count": 6,
   "metadata": {
    "execution": {
     "iopub.execute_input": "2023-09-17T20:47:11.984012Z",
     "iopub.status.busy": "2023-09-17T20:47:11.983520Z",
     "iopub.status.idle": "2023-09-17T20:47:11.993002Z",
     "shell.execute_reply": "2023-09-17T20:47:11.991068Z",
     "shell.execute_reply.started": "2023-09-17T20:47:11.983972Z"
    }
   },
   "outputs": [
    {
     "data": {
      "text/plain": [
       "{'freshapples': 0,\n",
       " 'freshbanana': 1,\n",
       " 'freshoranges': 2,\n",
       " 'rottenapples': 3,\n",
       " 'rottenbanana': 4,\n",
       " 'rottenoranges': 5}"
      ]
     },
     "execution_count": 6,
     "metadata": {},
     "output_type": "execute_result"
    }
   ],
   "source": [
    "test_generator.class_indices"
   ]
  },
  {
   "cell_type": "markdown",
   "metadata": {},
   "source": [
    "# **Building The Deep Model Using Cnn**"
   ]
  },
  {
   "cell_type": "code",
   "execution_count": 7,
   "metadata": {
    "execution": {
     "iopub.execute_input": "2023-09-17T20:47:15.016108Z",
     "iopub.status.busy": "2023-09-17T20:47:15.015623Z",
     "iopub.status.idle": "2023-09-17T20:47:15.321404Z",
     "shell.execute_reply": "2023-09-17T20:47:15.320070Z",
     "shell.execute_reply.started": "2023-09-17T20:47:15.016066Z"
    }
   },
   "outputs": [],
   "source": [
    "import tensorflow as tf\n",
    "\n",
    "from tensorflow.keras import datasets, layers, models\n",
    "\n",
    "\n",
    "model0 = keras.models.Sequential()\n",
    "\n",
    "model0.add(layers.Conv2D(32, (3, 3), activation='relu', input_shape=(224, 224, 3)))\n",
    "model0.add(layers.MaxPooling2D((2, 2)))\n",
    "\n",
    "model0.add(layers.Conv2D(64, (3, 3), activation='relu'))\n",
    "model0.add(layers.MaxPooling2D((2, 2)))\n",
    "\n",
    "model0.add(layers.Conv2D(128, (3, 3), activation='relu'))\n",
    "model0.add(layers.MaxPooling2D((2, 2)))\n",
    "\n",
    "model0.add(layers.Conv2D(128, (3, 3), activation='relu'))\n",
    "model0.add(layers.MaxPooling2D((2, 2)))\n",
    "\n",
    "model0.add(layers.Flatten())\n",
    "\n",
    "model0.add(layers.Dense(512, activation='relu'))\n",
    "model0.add(layers.Dense(6,activation='softmax'))"
   ]
  },
  {
   "cell_type": "code",
   "execution_count": 8,
   "metadata": {
    "execution": {
     "iopub.execute_input": "2023-09-17T20:47:19.005836Z",
     "iopub.status.busy": "2023-09-17T20:47:19.004223Z",
     "iopub.status.idle": "2023-09-17T20:47:19.016116Z",
     "shell.execute_reply": "2023-09-17T20:47:19.014539Z",
     "shell.execute_reply.started": "2023-09-17T20:47:19.005772Z"
    }
   },
   "outputs": [
    {
     "name": "stdout",
     "output_type": "stream",
     "text": [
      "Model: \"sequential\"\n",
      "_________________________________________________________________\n",
      " Layer (type)                Output Shape              Param #   \n",
      "=================================================================\n",
      " conv2d (Conv2D)             (None, 222, 222, 32)      896       \n",
      "                                                                 \n",
      " max_pooling2d (MaxPooling2  (None, 111, 111, 32)      0         \n",
      " D)                                                              \n",
      "                                                                 \n",
      " conv2d_1 (Conv2D)           (None, 109, 109, 64)      18496     \n",
      "                                                                 \n",
      " max_pooling2d_1 (MaxPoolin  (None, 54, 54, 64)        0         \n",
      " g2D)                                                            \n",
      "                                                                 \n",
      " conv2d_2 (Conv2D)           (None, 52, 52, 128)       73856     \n",
      "                                                                 \n",
      " max_pooling2d_2 (MaxPoolin  (None, 26, 26, 128)       0         \n",
      " g2D)                                                            \n",
      "                                                                 \n",
      " conv2d_3 (Conv2D)           (None, 24, 24, 128)       147584    \n",
      "                                                                 \n",
      " max_pooling2d_3 (MaxPoolin  (None, 12, 12, 128)       0         \n",
      " g2D)                                                            \n",
      "                                                                 \n",
      " flatten (Flatten)           (None, 18432)             0         \n",
      "                                                                 \n",
      " dense (Dense)               (None, 512)               9437696   \n",
      "                                                                 \n",
      " dense_1 (Dense)             (None, 6)                 3078      \n",
      "                                                                 \n",
      "=================================================================\n",
      "Total params: 9681606 (36.93 MB)\n",
      "Trainable params: 9681606 (36.93 MB)\n",
      "Non-trainable params: 0 (0.00 Byte)\n",
      "_________________________________________________________________\n"
     ]
    }
   ],
   "source": [
    "model0.summary()"
   ]
  },
  {
   "cell_type": "code",
   "execution_count": 9,
   "metadata": {
    "execution": {
     "iopub.execute_input": "2023-09-17T20:47:22.004695Z",
     "iopub.status.busy": "2023-09-17T20:47:22.004143Z",
     "iopub.status.idle": "2023-09-17T20:47:22.025612Z",
     "shell.execute_reply": "2023-09-17T20:47:22.024335Z",
     "shell.execute_reply.started": "2023-09-17T20:47:22.004654Z"
    }
   },
   "outputs": [],
   "source": [
    "model0.compile(optimizer='adam',\n",
    "              loss='categorical_crossentropy',\n",
    "              metrics=['accuracy'])"
   ]
  },
  {
   "cell_type": "markdown",
   "metadata": {},
   "source": [
    "# Training the cnn model with 20 epochs"
   ]
  },
  {
   "cell_type": "code",
   "execution_count": 10,
   "metadata": {
    "execution": {
     "iopub.execute_input": "2023-09-17T20:47:42.404400Z",
     "iopub.status.busy": "2023-09-17T20:47:42.403973Z",
     "iopub.status.idle": "2023-09-17T20:58:25.645905Z",
     "shell.execute_reply": "2023-09-17T20:58:25.643906Z",
     "shell.execute_reply.started": "2023-09-17T20:47:42.404368Z"
    }
   },
   "outputs": [
    {
     "name": "stdout",
     "output_type": "stream",
     "text": [
      "Epoch 1/20\n",
      "28/28 [==============================] - 94s 3s/step - loss: 1.6795 - accuracy: 0.2734 - val_loss: 1.2946 - val_accuracy: 0.4730\n",
      "Epoch 2/20\n",
      "28/28 [==============================] - 88s 3s/step - loss: 1.0685 - accuracy: 0.5681 - val_loss: 0.9307 - val_accuracy: 0.5901\n",
      "Epoch 3/20\n",
      "28/28 [==============================] - 89s 3s/step - loss: 0.7401 - accuracy: 0.7109 - val_loss: 0.6534 - val_accuracy: 0.7252\n",
      "Epoch 4/20\n",
      "28/28 [==============================] - 88s 3s/step - loss: 0.8384 - accuracy: 0.6674 - val_loss: 0.6689 - val_accuracy: 0.7523\n",
      "Epoch 5/20\n",
      "28/28 [==============================] - 87s 3s/step - loss: 0.5978 - accuracy: 0.7835 - val_loss: 0.5523 - val_accuracy: 0.8153\n",
      "Epoch 6/20\n",
      "28/28 [==============================] - 88s 3s/step - loss: 0.5862 - accuracy: 0.8013 - val_loss: 0.4490 - val_accuracy: 0.8649\n",
      "Epoch 7/20\n",
      "28/28 [==============================] - 87s 3s/step - loss: 0.4698 - accuracy: 0.8382 - val_loss: 0.6062 - val_accuracy: 0.8018\n",
      "Epoch 8/20\n",
      "28/28 [==============================] - 88s 3s/step - loss: 0.4738 - accuracy: 0.8203 - val_loss: 0.4613 - val_accuracy: 0.8333\n",
      "Epoch 9/20\n",
      "28/28 [==============================] - 87s 3s/step - loss: 0.4503 - accuracy: 0.8359 - val_loss: 0.4146 - val_accuracy: 0.8694\n",
      "Epoch 10/20\n",
      "28/28 [==============================] - 88s 3s/step - loss: 0.4063 - accuracy: 0.8560 - val_loss: 0.4358 - val_accuracy: 0.8423\n",
      "Epoch 11/20\n",
      "28/28 [==============================] - 87s 3s/step - loss: 0.3807 - accuracy: 0.8650 - val_loss: 0.3782 - val_accuracy: 0.8604\n",
      "Epoch 12/20\n",
      "28/28 [==============================] - 87s 3s/step - loss: 0.3493 - accuracy: 0.8705 - val_loss: 0.3731 - val_accuracy: 0.8378\n",
      "Epoch 13/20\n",
      "28/28 [==============================] - 87s 3s/step - loss: 0.4420 - accuracy: 0.8527 - val_loss: 0.4642 - val_accuracy: 0.8288\n",
      "Epoch 14/20\n",
      "28/28 [==============================] - 87s 3s/step - loss: 0.3827 - accuracy: 0.8650 - val_loss: 0.3799 - val_accuracy: 0.8694\n",
      "Epoch 15/20\n",
      "28/28 [==============================] - 90s 3s/step - loss: 0.3036 - accuracy: 0.8717 - val_loss: 0.3589 - val_accuracy: 0.8604\n",
      "Epoch 16/20\n",
      "28/28 [==============================] - 93s 3s/step - loss: 0.2425 - accuracy: 0.9085 - val_loss: 0.5193 - val_accuracy: 0.8378\n",
      "Epoch 17/20\n",
      "28/28 [==============================] - 92s 3s/step - loss: 0.2972 - accuracy: 0.8951 - val_loss: 0.4657 - val_accuracy: 0.8198\n",
      "Epoch 18/20\n",
      "28/28 [==============================] - 86s 3s/step - loss: 0.3042 - accuracy: 0.8828 - val_loss: 0.2704 - val_accuracy: 0.8874\n",
      "Epoch 19/20\n",
      "28/28 [==============================] - 88s 3s/step - loss: 0.2993 - accuracy: 0.8728 - val_loss: 0.3111 - val_accuracy: 0.8964\n",
      "Epoch 20/20\n",
      "28/28 [==============================] - 87s 3s/step - loss: 0.2711 - accuracy: 0.8962 - val_loss: 0.3673 - val_accuracy: 0.8604\n"
     ]
    }
   ],
   "source": [
    "history0 = model0.fit(train_generator,\n",
    "          validation_data=validation_generator,\n",
    "          steps_per_epoch=train_generator.samples/train_generator.batch_size, \n",
    "          validation_steps=validation_generator.samples/validation_generator.batch_size, \n",
    "          epochs=20)"
   ]
  },
  {
   "cell_type": "markdown",
   "metadata": {},
   "source": [
    "# Plotting Training and Validation **Accuracy**\n"
   ]
  },
  {
   "cell_type": "code",
   "execution_count": 11,
   "metadata": {
    "execution": {
     "iopub.execute_input": "2022-11-23T03:14:11.41272Z",
     "iopub.status.busy": "2022-11-23T03:14:11.411679Z",
     "iopub.status.idle": "2022-11-23T03:14:11.632217Z",
     "shell.execute_reply": "2022-11-23T03:14:11.631282Z",
     "shell.execute_reply.started": "2022-11-23T03:14:11.412671Z"
    }
   },
   "outputs": [
    {
     "data": {
      "text/plain": [
       "<matplotlib.legend.Legend at 0x2018005bee0>"
      ]
     },
     "execution_count": 11,
     "metadata": {},
     "output_type": "execute_result"
    },
    {
     "data": {
      "image/png": "[encoded data removed]",
      "text/plain": [
       "<Figure size 640x480 with 1 Axes>"
      ]
     },
     "metadata": {},
     "output_type": "display_data"
    }
   ],
   "source": [
    "plt.plot(history0.history['accuracy'])\n",
    "plt.plot(history0.history['val_accuracy'])\n",
    "plt.title('Model Accuracy')\n",
    "plt.xlabel('Epochs')\n",
    "plt.ylabel('Accuracy')\n",
    "plt.legend(['Acc','Val'], loc = 'upper left')"
   ]
  },
  {
   "cell_type": "markdown",
   "metadata": {},
   "source": [
    "# Plotting Training and Validation **Error**"
   ]
  },
  {
   "cell_type": "code",
   "execution_count": 12,
   "metadata": {
    "execution": {
     "iopub.execute_input": "2022-11-23T03:14:20.257912Z",
     "iopub.status.busy": "2022-11-23T03:14:20.256984Z",
     "iopub.status.idle": "2022-11-23T03:14:20.48845Z",
     "shell.execute_reply": "2022-11-23T03:14:20.48743Z",
     "shell.execute_reply.started": "2022-11-23T03:14:20.257864Z"
    }
   },
   "outputs": [
    {
     "data": {
      "text/plain": [
       "<matplotlib.legend.Legend at 0x201ce050850>"
      ]
     },
     "execution_count": 12,
     "metadata": {},
     "output_type": "execute_result"
    },
    {
     "data": {
      "image/png": "[encoded data removed]",
      "text/plain": [
       "<Figure size 640x480 with 1 Axes>"
      ]
     },
     "metadata": {},
     "output_type": "display_data"
    }
   ],
   "source": [
    "plt.plot(history0.history['loss'])\n",
    "plt.plot(history0.history['val_loss'])\n",
    "plt.title('Model Loss')\n",
    "plt.xlabel('Epochs')\n",
    "plt.ylabel('Loss')\n",
    "plt.legend(['loss','Val'], loc = 'upper left')"
   ]
  },
  {
   "cell_type": "markdown",
   "metadata": {},
   "source": [
    "# Evaluating the model on test data (bad loss result given)"
   ]
  },
  {
   "cell_type": "code",
   "execution_count": 10,
   "metadata": {
    "execution": {
     "iopub.execute_input": "2022-11-23T03:14:52.802629Z",
     "iopub.status.busy": "2022-11-23T03:14:52.801466Z",
     "iopub.status.idle": "2022-11-23T03:15:06.882979Z",
     "shell.execute_reply": "2022-11-23T03:15:06.881972Z",
     "shell.execute_reply.started": "2022-11-23T03:14:52.802585Z"
    }
   },
   "outputs": [
    {
     "ename": "NameError",
     "evalue": "name 'test_generator' is not defined",
     "output_type": "error",
     "traceback": [
      "\u001b[1;31m---------------------------------------------------------------------------\u001b[0m",
      "\u001b[1;31mNameError\u001b[0m                                 Traceback (most recent call last)",
      "Cell \u001b[1;32mIn[10], line 1\u001b[0m\n\u001b[1;32m----> 1\u001b[0m result0\u001b[38;5;241m=\u001b[39mmodel0\u001b[38;5;241m.\u001b[39mevaluate(\u001b[43mtest_generator\u001b[49m, steps\u001b[38;5;241m=\u001b[39mtest_generator\u001b[38;5;241m.\u001b[39msamples\u001b[38;5;241m/\u001b[39mtest_generator\u001b[38;5;241m.\u001b[39mbatch_size)\n\u001b[0;32m      2\u001b[0m \u001b[38;5;28mprint\u001b[39m(result0)\n\u001b[0;32m      4\u001b[0m \u001b[38;5;28mprint\u001b[39m(\u001b[38;5;124m'\u001b[39m\u001b[38;5;124mError on testing dataset: \u001b[39m\u001b[38;5;124m'\u001b[39m, result0[\u001b[38;5;241m0\u001b[39m])\n",
      "\u001b[1;31mNameError\u001b[0m: name 'test_generator' is not defined"
     ]
    }
   ],
   "source": [
    "result0=model0.evaluate(test_generator, steps=test_generator.samples/test_generator.batch_size)\n",
    "print(result0)\n",
    "\n",
    "print('Error on testing dataset: ', result0[0])\n",
    "print('Accuracy on testing dataset: ', result0[1])"
   ]
  },
  {
   "cell_type": "markdown",
   "metadata": {},
   "source": [
    "## Saving the model"
   ]
  },
  {
   "cell_type": "code",
   "execution_count": 16,
   "metadata": {
    "execution": {
     "iopub.execute_input": "2022-11-23T03:15:24.302935Z",
     "iopub.status.busy": "2022-11-23T03:15:24.302352Z",
     "iopub.status.idle": "2022-11-23T03:15:24.568178Z",
     "shell.execute_reply": "2022-11-23T03:15:24.567187Z",
     "shell.execute_reply.started": "2022-11-23T03:15:24.302892Z"
    }
   },
   "outputs": [],
   "source": [
    "model0.save('./rottenvsfresh_cnn_model.h5')"
   ]
  },
  {
   "cell_type": "markdown",
   "metadata": {},
   "source": [
    "## Loading the model"
   ]
  },
  {
   "cell_type": "code",
   "execution_count": 3,
   "metadata": {
    "execution": {
     "iopub.execute_input": "2022-11-23T03:16:13.014533Z",
     "iopub.status.busy": "2022-11-23T03:16:13.014168Z",
     "iopub.status.idle": "2022-11-23T03:16:13.020813Z",
     "shell.execute_reply": "2022-11-23T03:16:13.019871Z",
     "shell.execute_reply.started": "2022-11-23T03:16:13.014488Z"
    }
   },
   "outputs": [],
   "source": [
    "from keras.models import load_model\n",
    "model0=load_model('./rottenvsfresh_cnn_model.h5')"
   ]
  },
  {
   "cell_type": "markdown",
   "metadata": {},
   "source": [
    "# **Building The Deep Model Using Pretrained VGG16 Model**"
   ]
  },
  {
   "cell_type": "markdown",
   "metadata": {},
   "source": [
    "## Load VGG16 Model with ImageNet weights\n",
    "#### And also remove the last layer of the model.\n",
    "### Transfer Learning"
   ]
  },
  {
   "cell_type": "code",
   "execution_count": 5,
   "metadata": {
    "execution": {
     "iopub.execute_input": "2023-09-17T21:04:30.306220Z",
     "iopub.status.busy": "2023-09-17T21:04:30.305712Z",
     "iopub.status.idle": "2023-09-17T21:04:51.789770Z",
     "shell.execute_reply": "2023-09-17T21:04:51.787783Z",
     "shell.execute_reply.started": "2023-09-17T21:04:30.306182Z"
    }
   },
   "outputs": [],
   "source": [
    "vgg16_model=keras.applications.VGG16(weights='imagenet',input_shape=(224, 224, 3),include_top=False) \n",
    "#input_shape=(224,224,3),pictures of dataset are in color so they have three dimensions:height,width,number of channels which are three (red,green,blue)\n",
    "# vgg16_model = keras.applications.ResNet50(\n",
    "#     include_top=False,\n",
    "#     weights=\"imagenet\",\n",
    "#     input_shape=(224, 224, 3)\n",
    "# )"
   ]
  },
  {
   "cell_type": "markdown",
   "metadata": {},
   "source": [
    "# The 5 blocks of VGG16 Pretrained Model"
   ]
  },
  {
   "cell_type": "code",
   "execution_count": 6,
   "metadata": {
    "execution": {
     "iopub.execute_input": "2022-11-23T00:21:43.586613Z",
     "iopub.status.busy": "2022-11-23T00:21:43.585498Z",
     "iopub.status.idle": "2022-11-23T00:21:43.595214Z",
     "shell.execute_reply": "2022-11-23T00:21:43.594064Z",
     "shell.execute_reply.started": "2022-11-23T00:21:43.586568Z"
    }
   },
   "outputs": [
    {
     "name": "stdout",
     "output_type": "stream",
     "text": [
      "Model: \"vgg16\"\n",
      "_________________________________________________________________\n",
      " Layer (type)                Output Shape              Param #   \n",
      "=================================================================\n",
      " input_2 (InputLayer)        [(None, 224, 224, 3)]     0         \n",
      "                                                                 \n",
      " block1_conv1 (Conv2D)       (None, 224, 224, 64)      1792      \n",
      "                                                                 \n",
      " block1_conv2 (Conv2D)       (None, 224, 224, 64)      36928     \n",
      "                                                                 \n",
      " block1_pool (MaxPooling2D)  (None, 112, 112, 64)      0         \n",
      "                                                                 \n",
      " block2_conv1 (Conv2D)       (None, 112, 112, 128)     73856     \n",
      "                                                                 \n",
      " block2_conv2 (Conv2D)       (None, 112, 112, 128)     147584    \n",
      "                                                                 \n",
      " block2_pool (MaxPooling2D)  (None, 56, 56, 128)       0         \n",
      "                                                                 \n",
      " block3_conv1 (Conv2D)       (None, 56, 56, 256)       295168    \n",
      "                                                                 \n",
      " block3_conv2 (Conv2D)       (None, 56, 56, 256)       590080    \n",
      "                                                                 \n",
      " block3_conv3 (Conv2D)       (None, 56, 56, 256)       590080    \n",
      "                                                                 \n",
      " block3_pool (MaxPooling2D)  (None, 28, 28, 256)       0         \n",
      "                                                                 \n",
      " block4_conv1 (Conv2D)       (None, 28, 28, 512)       1180160   \n",
      "                                                                 \n",
      " block4_conv2 (Conv2D)       (None, 28, 28, 512)       2359808   \n",
      "                                                                 \n",
      " block4_conv3 (Conv2D)       (None, 28, 28, 512)       2359808   \n",
      "                                                                 \n",
      " block4_pool (MaxPooling2D)  (None, 14, 14, 512)       0         \n",
      "                                                                 \n",
      " block5_conv1 (Conv2D)       (None, 14, 14, 512)       2359808   \n",
      "                                                                 \n",
      " block5_conv2 (Conv2D)       (None, 14, 14, 512)       2359808   \n",
      "                                                                 \n",
      " block5_conv3 (Conv2D)       (None, 14, 14, 512)       2359808   \n",
      "                                                                 \n",
      " block5_pool (MaxPooling2D)  (None, 7, 7, 512)         0         \n",
      "                                                                 \n",
      "=================================================================\n",
      "Total params: 14714688 (56.13 MB)\n",
      "Trainable params: 14714688 (56.13 MB)\n",
      "Non-trainable params: 0 (0.00 Byte)\n",
      "_________________________________________________________________\n"
     ]
    }
   ],
   "source": [
    "vgg16_model.summary()"
   ]
  },
  {
   "cell_type": "markdown",
   "metadata": {},
   "source": [
    "# Adding layers to the pretrained VGG16 model\n",
    "#### the last dense layer has the same number of neurons of the classes in the dataset.\n",
    "### Freeze the model\n"
   ]
  },
  {
   "cell_type": "code",
   "execution_count": 7,
   "metadata": {
    "execution": {
     "iopub.execute_input": "2022-11-23T00:21:55.792993Z",
     "iopub.status.busy": "2022-11-23T00:21:55.792628Z",
     "iopub.status.idle": "2022-11-23T00:21:55.798843Z",
     "shell.execute_reply": "2022-11-23T00:21:55.797766Z",
     "shell.execute_reply.started": "2022-11-23T00:21:55.792964Z"
    }
   },
   "outputs": [],
   "source": [
    "vgg16_model.trainable = False"
   ]
  },
  {
   "cell_type": "code",
   "execution_count": 8,
   "metadata": {
    "execution": {
     "iopub.execute_input": "2022-11-22T23:16:32.020276Z",
     "iopub.status.busy": "2022-11-22T23:16:32.019905Z",
     "iopub.status.idle": "2022-11-22T23:16:32.086457Z",
     "shell.execute_reply": "2022-11-22T23:16:32.08557Z",
     "shell.execute_reply.started": "2022-11-22T23:16:32.020245Z"
    }
   },
   "outputs": [],
   "source": [
    "# Create inputs with correct shape\n",
    "inputs = vgg16_model.input\n",
    "\n",
    "# Call the VGG16 model\n",
    "x = vgg16_model(inputs,training=False)\n",
    "\n",
    "#pooling layer \n",
    "x = keras.layers.GlobalAveragePooling2D()(x)\n",
    "\n",
    "# Add final dense layer with softmax as activation function\n",
    "outputs = keras.layers.Dense(6, activation = 'softmax')(x)\n",
    "\n",
    "# Combine inputs and outputs to create model\n",
    "model1 = keras.Model(inputs=inputs, outputs=outputs)"
   ]
  },
  {
   "cell_type": "code",
   "execution_count": 9,
   "metadata": {
    "execution": {
     "iopub.execute_input": "2022-11-23T00:22:16.653258Z",
     "iopub.status.busy": "2022-11-23T00:22:16.652904Z",
     "iopub.status.idle": "2022-11-23T00:22:16.660391Z",
     "shell.execute_reply": "2022-11-23T00:22:16.659268Z",
     "shell.execute_reply.started": "2022-11-23T00:22:16.653228Z"
    }
   },
   "outputs": [
    {
     "name": "stdout",
     "output_type": "stream",
     "text": [
      "Model: \"model\"\n",
      "_________________________________________________________________\n",
      " Layer (type)                Output Shape              Param #   \n",
      "=================================================================\n",
      " input_2 (InputLayer)        [(None, 224, 224, 3)]     0         \n",
      "                                                                 \n",
      " vgg16 (Functional)          (None, 7, 7, 512)         14714688  \n",
      "                                                                 \n",
      " global_average_pooling2d (  (None, 512)               0         \n",
      " GlobalAveragePooling2D)                                         \n",
      "                                                                 \n",
      " dense (Dense)               (None, 6)                 3078      \n",
      "                                                                 \n",
      "=================================================================\n",
      "Total params: 14717766 (56.14 MB)\n",
      "Trainable params: 3078 (12.02 KB)\n",
      "Non-trainable params: 14714688 (56.13 MB)\n",
      "_________________________________________________________________\n"
     ]
    }
   ],
   "source": [
    "model1.summary()"
   ]
  },
  {
   "cell_type": "markdown",
   "metadata": {},
   "source": [
    "## Compile Model with categorical_crossentropy as loss function and adam optimizer"
   ]
  },
  {
   "cell_type": "code",
   "execution_count": 13,
   "metadata": {
    "execution": {
     "iopub.execute_input": "2022-11-23T00:22:40.221954Z",
     "iopub.status.busy": "2022-11-23T00:22:40.22139Z",
     "iopub.status.idle": "2022-11-23T00:22:40.234584Z",
     "shell.execute_reply": "2022-11-23T00:22:40.233563Z",
     "shell.execute_reply.started": "2022-11-23T00:22:40.221912Z"
    }
   },
   "outputs": [],
   "source": [
    "model1.compile(loss='categorical_crossentropy',metrics=['accuracy'], optimizer='adam')   "
   ]
  },
  {
   "cell_type": "markdown",
   "metadata": {},
   "source": [
    "## Training the Model with 20 epochs"
   ]
  },
  {
   "cell_type": "code",
   "execution_count": 18,
   "metadata": {
    "execution": {
     "iopub.execute_input": "2022-11-23T00:22:57.607351Z",
     "iopub.status.busy": "2022-11-23T00:22:57.606411Z",
     "iopub.status.idle": "2022-11-23T01:22:47.921558Z",
     "shell.execute_reply": "2022-11-23T01:22:47.920507Z",
     "shell.execute_reply.started": "2022-11-23T00:22:57.607313Z"
    }
   },
   "outputs": [
    {
     "name": "stdout",
     "output_type": "stream",
     "text": [
      "Epoch 1/20\n",
      "28/28 [==============================] - 145s 5s/step - loss: 1.7836 - accuracy: 0.2902 - val_loss: 1.6505 - val_accuracy: 0.4505\n",
      "Epoch 2/20\n",
      "28/28 [==============================] - 161s 6s/step - loss: 1.5829 - accuracy: 0.5737 - val_loss: 1.5125 - val_accuracy: 0.6216\n",
      "Epoch 3/20\n",
      "28/28 [==============================] - 152s 5s/step - loss: 1.4439 - accuracy: 0.6350 - val_loss: 1.3866 - val_accuracy: 0.6892\n",
      "Epoch 4/20\n",
      "28/28 [==============================] - 154s 5s/step - loss: 1.3263 - accuracy: 0.7321 - val_loss: 1.3028 - val_accuracy: 0.7658\n",
      "Epoch 5/20\n",
      "28/28 [==============================] - 152s 5s/step - loss: 1.2287 - accuracy: 0.7690 - val_loss: 1.1924 - val_accuracy: 0.8018\n",
      "Epoch 6/20\n",
      "28/28 [==============================] - 153s 5s/step - loss: 1.1519 - accuracy: 0.7734 - val_loss: 1.1256 - val_accuracy: 0.7973\n",
      "Epoch 7/20\n",
      "28/28 [==============================] - 152s 5s/step - loss: 1.0862 - accuracy: 0.7846 - val_loss: 1.0693 - val_accuracy: 0.7748\n",
      "Epoch 8/20\n",
      "28/28 [==============================] - 172s 6s/step - loss: 1.0203 - accuracy: 0.8203 - val_loss: 1.0138 - val_accuracy: 0.8333\n",
      "Epoch 9/20\n",
      "28/28 [==============================] - 158s 6s/step - loss: 0.9655 - accuracy: 0.8281 - val_loss: 0.9643 - val_accuracy: 0.8198\n",
      "Epoch 10/20\n",
      "28/28 [==============================] - 160s 6s/step - loss: 0.9283 - accuracy: 0.8248 - val_loss: 0.9208 - val_accuracy: 0.8333\n",
      "Epoch 11/20\n",
      "28/28 [==============================] - 156s 6s/step - loss: 0.8813 - accuracy: 0.8471 - val_loss: 0.8751 - val_accuracy: 0.8243\n",
      "Epoch 12/20\n",
      "28/28 [==============================] - 157s 6s/step - loss: 0.8491 - accuracy: 0.8248 - val_loss: 0.8444 - val_accuracy: 0.8694\n",
      "Epoch 13/20\n",
      "28/28 [==============================] - 157s 6s/step - loss: 0.8130 - accuracy: 0.8426 - val_loss: 0.8322 - val_accuracy: 0.8423\n",
      "Epoch 14/20\n",
      "28/28 [==============================] - 163s 6s/step - loss: 0.7779 - accuracy: 0.8460 - val_loss: 0.7900 - val_accuracy: 0.8559\n",
      "Epoch 15/20\n",
      "28/28 [==============================] - 163s 6s/step - loss: 0.7521 - accuracy: 0.8493 - val_loss: 0.7705 - val_accuracy: 0.8468\n",
      "Epoch 16/20\n",
      "28/28 [==============================] - 162s 6s/step - loss: 0.7289 - accuracy: 0.8560 - val_loss: 0.7567 - val_accuracy: 0.8604\n",
      "Epoch 17/20\n",
      "28/28 [==============================] - 174s 6s/step - loss: 0.7097 - accuracy: 0.8560 - val_loss: 0.7214 - val_accuracy: 0.8514\n",
      "Epoch 18/20\n",
      "28/28 [==============================] - 157s 6s/step - loss: 0.6817 - accuracy: 0.8594 - val_loss: 0.7213 - val_accuracy: 0.8423\n",
      "Epoch 19/20\n",
      "28/28 [==============================] - 177s 6s/step - loss: 0.6757 - accuracy: 0.8549 - val_loss: 0.6906 - val_accuracy: 0.8333\n",
      "Epoch 20/20\n",
      "28/28 [==============================] - 312s 11s/step - loss: 0.6425 - accuracy: 0.8694 - val_loss: 0.6675 - val_accuracy: 0.8829\n"
     ]
    }
   ],
   "source": [
    "history1 = model1.fit(train_generator,\n",
    "          validation_data=validation_generator,\n",
    "          steps_per_epoch=train_generator.samples/train_generator.batch_size, \n",
    "          validation_steps=validation_generator.samples/validation_generator.batch_size, \n",
    "          epochs=20)"
   ]
  },
  {
   "cell_type": "markdown",
   "metadata": {},
   "source": [
    "# Plotting Training and Validation **Accuracy**"
   ]
  },
  {
   "cell_type": "code",
   "execution_count": 19,
   "metadata": {
    "execution": {
     "iopub.execute_input": "2022-11-23T01:23:31.613016Z",
     "iopub.status.busy": "2022-11-23T01:23:31.612643Z",
     "iopub.status.idle": "2022-11-23T01:23:31.832858Z",
     "shell.execute_reply": "2022-11-23T01:23:31.831987Z",
     "shell.execute_reply.started": "2022-11-23T01:23:31.612985Z"
    }
   },
   "outputs": [
    {
     "data": {
      "text/plain": [
       "<matplotlib.legend.Legend at 0x229000cee00>"
      ]
     },
     "execution_count": 19,
     "metadata": {},
     "output_type": "execute_result"
    },
    {
     "data": {
      "image/png": "[encoded data removed]",
      "text/plain": [
       "<Figure size 640x480 with 1 Axes>"
      ]
     },
     "metadata": {},
     "output_type": "display_data"
    }
   ],
   "source": [
    "plt.plot(history1.history['accuracy'])\n",
    "plt.plot(history1.history['val_accuracy'])\n",
    "plt.title('Model Accuracy')\n",
    "plt.xlabel('Epochs')\n",
    "plt.ylabel('Accuracy')\n",
    "plt.legend(['Acc','Val'], loc = 'upper left')"
   ]
  },
  {
   "cell_type": "markdown",
   "metadata": {},
   "source": [
    "# Plotting Training and Validation **Error**"
   ]
  },
  {
   "cell_type": "code",
   "execution_count": 20,
   "metadata": {
    "execution": {
     "iopub.execute_input": "2022-11-23T01:24:05.438013Z",
     "iopub.status.busy": "2022-11-23T01:24:05.437593Z",
     "iopub.status.idle": "2022-11-23T01:24:05.744403Z",
     "shell.execute_reply": "2022-11-23T01:24:05.743576Z",
     "shell.execute_reply.started": "2022-11-23T01:24:05.437979Z"
    }
   },
   "outputs": [
    {
     "data": {
      "text/plain": [
       "<matplotlib.legend.Legend at 0x22900057610>"
      ]
     },
     "execution_count": 20,
     "metadata": {},
     "output_type": "execute_result"
    },
    {
     "data": {
      "image/png": "[encoded data removed]",
      "text/plain": [
       "<Figure size 640x480 with 1 Axes>"
      ]
     },
     "metadata": {},
     "output_type": "display_data"
    }
   ],
   "source": [
    "plt.plot(history1.history['loss'])\n",
    "plt.plot(history1.history['val_loss'])\n",
    "plt.title('Model Loss')\n",
    "plt.xlabel('Epochs')\n",
    "plt.ylabel('Loss')\n",
    "plt.legend(['loss','Val'], loc = 'upper left')"
   ]
  },
  {
   "cell_type": "markdown",
   "metadata": {},
   "source": [
    "# Evaluating the model on the testing dataset"
   ]
  },
  {
   "cell_type": "code",
   "execution_count": 21,
   "metadata": {
    "execution": {
     "iopub.execute_input": "2022-11-23T01:57:34.57485Z",
     "iopub.status.busy": "2022-11-23T01:57:34.574466Z",
     "iopub.status.idle": "2022-11-23T01:57:50.04171Z",
     "shell.execute_reply": "2022-11-23T01:57:50.040796Z",
     "shell.execute_reply.started": "2022-11-23T01:57:34.574819Z"
    }
   },
   "outputs": [
    {
     "name": "stdout",
     "output_type": "stream",
     "text": [
      "2/2 [==============================] - 34s 11s/step - loss: 1.5867 - accuracy: 0.5114\n",
      "[1.5866634845733643, 0.5113636255264282]\n",
      "Error on testing dataset:  1.5866634845733643\n",
      "Accuracy on testing dataset:  0.5113636255264282\n"
     ]
    }
   ],
   "source": [
    "result1=model1.evaluate(test_generator, steps=test_generator.samples/test_generator.batch_size)\n",
    "print(result1)\n",
    "print('Error on testing dataset: ', result1[0])\n",
    "print('Accuracy on testing dataset: ', result1[1])"
   ]
  },
  {
   "cell_type": "markdown",
   "metadata": {},
   "source": [
    "## Saving the model"
   ]
  },
  {
   "cell_type": "code",
   "execution_count": 22,
   "metadata": {
    "execution": {
     "iopub.execute_input": "2022-11-23T03:30:17.086966Z",
     "iopub.status.busy": "2022-11-23T03:30:17.086596Z",
     "iopub.status.idle": "2022-11-23T03:30:17.193853Z",
     "shell.execute_reply": "2022-11-23T03:30:17.192897Z",
     "shell.execute_reply.started": "2022-11-23T03:30:17.086931Z"
    }
   },
   "outputs": [
    {
     "name": "stderr",
     "output_type": "stream",
     "text": [
      "C:\\Users\\Dell\\AppData\\Local\\Programs\\Python\\Python310\\lib\\site-packages\\keras\\src\\engine\\training.py:3000: UserWarning: You are saving your model as an HDF5 file via `model.save()`. This file format is considered legacy. We recommend using instead the native Keras format, e.g. `model.save('my_model.keras')`.\n",
      "  saving_api.save_model(\n"
     ]
    }
   ],
   "source": [
    "model1.save('./rottenvsfresh_vgg16_model.h5')"
   ]
  },
  {
   "cell_type": "markdown",
   "metadata": {},
   "source": [
    "## Loading the model (the best model)"
   ]
  },
  {
   "cell_type": "code",
   "execution_count": 23,
   "metadata": {
    "execution": {
     "iopub.execute_input": "2022-11-23T01:59:13.175417Z",
     "iopub.status.busy": "2022-11-23T01:59:13.175052Z",
     "iopub.status.idle": "2022-11-23T01:59:14.632417Z",
     "shell.execute_reply": "2022-11-23T01:59:14.631459Z",
     "shell.execute_reply.started": "2022-11-23T01:59:13.175385Z"
    }
   },
   "outputs": [],
   "source": [
    "from keras.models import load_model\n",
    "model1=load_model('./rottenvsfresh_vgg16_model.h5')"
   ]
  }
 ],
 "metadata": {
  "kernelspec": {
   "display_name": "Python 3 (ipykernel)",
   "language": "python",
   "name": "python3"
  },
  "language_info": {
   "codemirror_mode": {
    "name": "ipython",
    "version": 3
   },
   "file_extension": ".py",
   "mimetype": "text/x-python",
   "name": "python",
   "nbconvert_exporter": "python",
   "pygments_lexer": "ipython3",
   "version": "3.10.11"
  }
 },
 "nbformat": 4,
 "nbformat_minor": 4
}
